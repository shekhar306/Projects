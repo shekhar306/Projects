{
 "cells": [
  {
   "cell_type": "markdown",
   "metadata": {},
   "source": [
    "# Hypothesis Testing Case Study"
   ]
  },
  {
   "cell_type": "code",
   "execution_count": 1,
   "metadata": {},
   "outputs": [],
   "source": [
    "import pandas as pd\n",
    "import numpy as np\n",
    "import seaborn as sns\n",
    "import matplotlib.pyplot as plt\n",
    "%matplotlib inline\n",
    "import math\n",
    "import scipy.stats as stats"
   ]
  },
  {
   "cell_type": "code",
   "execution_count": 2,
   "metadata": {},
   "outputs": [
    {
     "data": {
      "text/html": [
       "<div>\n",
       "<style scoped>\n",
       "    .dataframe tbody tr th:only-of-type {\n",
       "        vertical-align: middle;\n",
       "    }\n",
       "\n",
       "    .dataframe tbody tr th {\n",
       "        vertical-align: top;\n",
       "    }\n",
       "\n",
       "    .dataframe thead th {\n",
       "        text-align: right;\n",
       "    }\n",
       "</style>\n",
       "<table border=\"1\" class=\"dataframe\">\n",
       "  <thead>\n",
       "    <tr style=\"text-align: right;\">\n",
       "      <th></th>\n",
       "      <th>custid</th>\n",
       "      <th>sex</th>\n",
       "      <th>AqChannel</th>\n",
       "      <th>region</th>\n",
       "      <th>Marital_status</th>\n",
       "      <th>segment</th>\n",
       "      <th>pre_usage</th>\n",
       "      <th>Post_usage_1month</th>\n",
       "      <th>Latest_mon_usage</th>\n",
       "      <th>post_usage_2ndmonth</th>\n",
       "    </tr>\n",
       "  </thead>\n",
       "  <tbody>\n",
       "    <tr>\n",
       "      <td>0</td>\n",
       "      <td>70</td>\n",
       "      <td>0</td>\n",
       "      <td>4</td>\n",
       "      <td>1</td>\n",
       "      <td>1</td>\n",
       "      <td>1</td>\n",
       "      <td>57</td>\n",
       "      <td>52</td>\n",
       "      <td>49.2</td>\n",
       "      <td>57.2</td>\n",
       "    </tr>\n",
       "    <tr>\n",
       "      <td>1</td>\n",
       "      <td>121</td>\n",
       "      <td>1</td>\n",
       "      <td>4</td>\n",
       "      <td>2</td>\n",
       "      <td>1</td>\n",
       "      <td>3</td>\n",
       "      <td>68</td>\n",
       "      <td>59</td>\n",
       "      <td>63.6</td>\n",
       "      <td>64.9</td>\n",
       "    </tr>\n",
       "    <tr>\n",
       "      <td>2</td>\n",
       "      <td>86</td>\n",
       "      <td>0</td>\n",
       "      <td>4</td>\n",
       "      <td>3</td>\n",
       "      <td>1</td>\n",
       "      <td>1</td>\n",
       "      <td>44</td>\n",
       "      <td>33</td>\n",
       "      <td>64.8</td>\n",
       "      <td>36.3</td>\n",
       "    </tr>\n",
       "    <tr>\n",
       "      <td>3</td>\n",
       "      <td>141</td>\n",
       "      <td>0</td>\n",
       "      <td>4</td>\n",
       "      <td>3</td>\n",
       "      <td>1</td>\n",
       "      <td>3</td>\n",
       "      <td>63</td>\n",
       "      <td>44</td>\n",
       "      <td>56.4</td>\n",
       "      <td>48.4</td>\n",
       "    </tr>\n",
       "    <tr>\n",
       "      <td>4</td>\n",
       "      <td>172</td>\n",
       "      <td>0</td>\n",
       "      <td>4</td>\n",
       "      <td>2</td>\n",
       "      <td>1</td>\n",
       "      <td>2</td>\n",
       "      <td>47</td>\n",
       "      <td>52</td>\n",
       "      <td>68.4</td>\n",
       "      <td>57.2</td>\n",
       "    </tr>\n",
       "  </tbody>\n",
       "</table>\n",
       "</div>"
      ],
      "text/plain": [
       "   custid  sex  AqChannel  region  Marital_status  segment  pre_usage  \\\n",
       "0      70    0          4       1               1        1         57   \n",
       "1     121    1          4       2               1        3         68   \n",
       "2      86    0          4       3               1        1         44   \n",
       "3     141    0          4       3               1        3         63   \n",
       "4     172    0          4       2               1        2         47   \n",
       "\n",
       "   Post_usage_1month  Latest_mon_usage  post_usage_2ndmonth  \n",
       "0                 52              49.2                 57.2  \n",
       "1                 59              63.6                 64.9  \n",
       "2                 33              64.8                 36.3  \n",
       "3                 44              56.4                 48.4  \n",
       "4                 52              68.4                 57.2  "
      ]
     },
     "execution_count": 2,
     "metadata": {},
     "output_type": "execute_result"
    }
   ],
   "source": [
    "cust_seg=pd.read_csv('C:\\\\Users\\\\shekh\\\\cust_seg.csv')\n",
    "cust_seg.head()"
   ]
  },
  {
   "cell_type": "code",
   "execution_count": 3,
   "metadata": {},
   "outputs": [
    {
     "name": "stdout",
     "output_type": "stream",
     "text": [
      "<class 'pandas.core.frame.DataFrame'>\n",
      "RangeIndex: 200 entries, 0 to 199\n",
      "Data columns (total 10 columns):\n",
      "custid                 200 non-null int64\n",
      "sex                    200 non-null int64\n",
      "AqChannel              200 non-null int64\n",
      "region                 200 non-null int64\n",
      "Marital_status         200 non-null int64\n",
      "segment                200 non-null int64\n",
      "pre_usage              200 non-null int64\n",
      "Post_usage_1month      200 non-null int64\n",
      "Latest_mon_usage       200 non-null float64\n",
      "post_usage_2ndmonth    200 non-null float64\n",
      "dtypes: float64(2), int64(8)\n",
      "memory usage: 15.8 KB\n"
     ]
    }
   ],
   "source": [
    "cust_seg.info()"
   ]
  },
  {
   "cell_type": "code",
   "execution_count": 4,
   "metadata": {},
   "outputs": [
    {
     "data": {
      "text/html": [
       "<div>\n",
       "<style scoped>\n",
       "    .dataframe tbody tr th:only-of-type {\n",
       "        vertical-align: middle;\n",
       "    }\n",
       "\n",
       "    .dataframe tbody tr th {\n",
       "        vertical-align: top;\n",
       "    }\n",
       "\n",
       "    .dataframe thead th {\n",
       "        text-align: right;\n",
       "    }\n",
       "</style>\n",
       "<table border=\"1\" class=\"dataframe\">\n",
       "  <thead>\n",
       "    <tr style=\"text-align: right;\">\n",
       "      <th></th>\n",
       "      <th>custid</th>\n",
       "      <th>sex</th>\n",
       "      <th>AqChannel</th>\n",
       "      <th>region</th>\n",
       "      <th>Marital_status</th>\n",
       "      <th>segment</th>\n",
       "      <th>pre_usage</th>\n",
       "      <th>Post_usage_1month</th>\n",
       "      <th>Latest_mon_usage</th>\n",
       "      <th>post_usage_2ndmonth</th>\n",
       "    </tr>\n",
       "  </thead>\n",
       "  <tbody>\n",
       "    <tr>\n",
       "      <td>count</td>\n",
       "      <td>200.000000</td>\n",
       "      <td>200.00000</td>\n",
       "      <td>200.000000</td>\n",
       "      <td>200.000000</td>\n",
       "      <td>200.000000</td>\n",
       "      <td>200.000000</td>\n",
       "      <td>200.000000</td>\n",
       "      <td>200.000000</td>\n",
       "      <td>200.000000</td>\n",
       "      <td>200.000000</td>\n",
       "    </tr>\n",
       "    <tr>\n",
       "      <td>mean</td>\n",
       "      <td>100.500000</td>\n",
       "      <td>0.54500</td>\n",
       "      <td>3.430000</td>\n",
       "      <td>2.055000</td>\n",
       "      <td>1.160000</td>\n",
       "      <td>2.025000</td>\n",
       "      <td>52.230000</td>\n",
       "      <td>52.775000</td>\n",
       "      <td>63.174000</td>\n",
       "      <td>58.052500</td>\n",
       "    </tr>\n",
       "    <tr>\n",
       "      <td>std</td>\n",
       "      <td>57.879185</td>\n",
       "      <td>0.49922</td>\n",
       "      <td>1.039472</td>\n",
       "      <td>0.724291</td>\n",
       "      <td>0.367526</td>\n",
       "      <td>0.690477</td>\n",
       "      <td>10.252937</td>\n",
       "      <td>9.478586</td>\n",
       "      <td>11.242137</td>\n",
       "      <td>10.426445</td>\n",
       "    </tr>\n",
       "    <tr>\n",
       "      <td>min</td>\n",
       "      <td>1.000000</td>\n",
       "      <td>0.00000</td>\n",
       "      <td>1.000000</td>\n",
       "      <td>1.000000</td>\n",
       "      <td>1.000000</td>\n",
       "      <td>1.000000</td>\n",
       "      <td>28.000000</td>\n",
       "      <td>31.000000</td>\n",
       "      <td>39.600000</td>\n",
       "      <td>34.100000</td>\n",
       "    </tr>\n",
       "    <tr>\n",
       "      <td>25%</td>\n",
       "      <td>50.750000</td>\n",
       "      <td>0.00000</td>\n",
       "      <td>3.000000</td>\n",
       "      <td>2.000000</td>\n",
       "      <td>1.000000</td>\n",
       "      <td>2.000000</td>\n",
       "      <td>44.000000</td>\n",
       "      <td>45.750000</td>\n",
       "      <td>54.000000</td>\n",
       "      <td>50.325000</td>\n",
       "    </tr>\n",
       "    <tr>\n",
       "      <td>50%</td>\n",
       "      <td>100.500000</td>\n",
       "      <td>1.00000</td>\n",
       "      <td>4.000000</td>\n",
       "      <td>2.000000</td>\n",
       "      <td>1.000000</td>\n",
       "      <td>2.000000</td>\n",
       "      <td>50.000000</td>\n",
       "      <td>54.000000</td>\n",
       "      <td>62.400000</td>\n",
       "      <td>59.400000</td>\n",
       "    </tr>\n",
       "    <tr>\n",
       "      <td>75%</td>\n",
       "      <td>150.250000</td>\n",
       "      <td>1.00000</td>\n",
       "      <td>4.000000</td>\n",
       "      <td>3.000000</td>\n",
       "      <td>1.000000</td>\n",
       "      <td>2.250000</td>\n",
       "      <td>60.000000</td>\n",
       "      <td>60.000000</td>\n",
       "      <td>70.800000</td>\n",
       "      <td>66.000000</td>\n",
       "    </tr>\n",
       "    <tr>\n",
       "      <td>max</td>\n",
       "      <td>200.000000</td>\n",
       "      <td>1.00000</td>\n",
       "      <td>4.000000</td>\n",
       "      <td>3.000000</td>\n",
       "      <td>2.000000</td>\n",
       "      <td>3.000000</td>\n",
       "      <td>76.000000</td>\n",
       "      <td>67.000000</td>\n",
       "      <td>90.000000</td>\n",
       "      <td>73.700000</td>\n",
       "    </tr>\n",
       "  </tbody>\n",
       "</table>\n",
       "</div>"
      ],
      "text/plain": [
       "           custid        sex   AqChannel      region  Marital_status  \\\n",
       "count  200.000000  200.00000  200.000000  200.000000      200.000000   \n",
       "mean   100.500000    0.54500    3.430000    2.055000        1.160000   \n",
       "std     57.879185    0.49922    1.039472    0.724291        0.367526   \n",
       "min      1.000000    0.00000    1.000000    1.000000        1.000000   \n",
       "25%     50.750000    0.00000    3.000000    2.000000        1.000000   \n",
       "50%    100.500000    1.00000    4.000000    2.000000        1.000000   \n",
       "75%    150.250000    1.00000    4.000000    3.000000        1.000000   \n",
       "max    200.000000    1.00000    4.000000    3.000000        2.000000   \n",
       "\n",
       "          segment   pre_usage  Post_usage_1month  Latest_mon_usage  \\\n",
       "count  200.000000  200.000000         200.000000        200.000000   \n",
       "mean     2.025000   52.230000          52.775000         63.174000   \n",
       "std      0.690477   10.252937           9.478586         11.242137   \n",
       "min      1.000000   28.000000          31.000000         39.600000   \n",
       "25%      2.000000   44.000000          45.750000         54.000000   \n",
       "50%      2.000000   50.000000          54.000000         62.400000   \n",
       "75%      2.250000   60.000000          60.000000         70.800000   \n",
       "max      3.000000   76.000000          67.000000         90.000000   \n",
       "\n",
       "       post_usage_2ndmonth  \n",
       "count           200.000000  \n",
       "mean             58.052500  \n",
       "std              10.426445  \n",
       "min              34.100000  \n",
       "25%              50.325000  \n",
       "50%              59.400000  \n",
       "75%              66.000000  \n",
       "max              73.700000  "
      ]
     },
     "execution_count": 4,
     "metadata": {},
     "output_type": "execute_result"
    }
   ],
   "source": [
    "cust_seg.describe()"
   ]
  },
  {
   "cell_type": "markdown",
   "metadata": {},
   "source": [
    "### 1. Card usage has been improved significantly from last year usage which is 50. (Hint: Comparing card usage of post campaign of 1 month with last year hypothesized value 50)"
   ]
  },
  {
   "cell_type": "code",
   "execution_count": 5,
   "metadata": {},
   "outputs": [],
   "source": [
    "#the null hypothesis is :         Ho=50\n",
    "# and Alternative Hypothesis is : H1#50"
   ]
  },
  {
   "cell_type": "code",
   "execution_count": 6,
   "metadata": {},
   "outputs": [
    {
     "data": {
      "text/plain": [
       "<matplotlib.axes._subplots.AxesSubplot at 0x1ceda94b748>"
      ]
     },
     "execution_count": 6,
     "metadata": {},
     "output_type": "execute_result"
    },
    {
     "data": {
      "image/png": "[encoded data removed]",
      "text/plain": [
       "<Figure size 432x288 with 1 Axes>"
      ]
     },
     "metadata": {
      "needs_background": "light"
     },
     "output_type": "display_data"
    }
   ],
   "source": [
    "# Latest month usage data is normally distributed\n",
    "sns.distplot(cust_seg.Latest_mon_usage)"
   ]
  },
  {
   "cell_type": "code",
   "execution_count": 7,
   "metadata": {},
   "outputs": [
    {
     "data": {
      "text/plain": [
       "Ttest_1sampResult(statistic=16.57233752433133, pvalue=2.4963719280931583e-39)"
      ]
     },
     "execution_count": 7,
     "metadata": {},
     "output_type": "execute_result"
    }
   ],
   "source": [
    "# Using one sample T test  \n",
    "stats.ttest_1samp(a=cust_seg.Latest_mon_usage,popmean=50)"
   ]
  },
  {
   "cell_type": "code",
   "execution_count": 8,
   "metadata": {},
   "outputs": [
    {
     "data": {
      "text/plain": [
       "63.17400000000001"
      ]
     },
     "execution_count": 8,
     "metadata": {},
     "output_type": "execute_result"
    }
   ],
   "source": [
    "cust_seg.Latest_mon_usage.mean()"
   ]
  },
  {
   "cell_type": "raw",
   "metadata": {},
   "source": [
    "From the above result\n",
    "P value is less than 0.05 \n",
    "It means we have more evidence to reject the null hypothesis.\n",
    "We reject the Ho and we can also see from the mean that there is increase in card usage last year it was 50 and after campagin it was 63.174 it means that Card usage has improved."
   ]
  },
  {
   "cell_type": "markdown",
   "metadata": {},
   "source": [
    "### 2. The last campaign was successful in terms usage of credit card. (Hint: Comparing means for card usage of pre & post usage of campaign)."
   ]
  },
  {
   "cell_type": "code",
   "execution_count": 9,
   "metadata": {},
   "outputs": [
    {
     "data": {
      "text/plain": [
       "Ttest_relResult(statistic=-0.8673065458794775, pvalue=0.3868186820914985)"
      ]
     },
     "execution_count": 9,
     "metadata": {},
     "output_type": "execute_result"
    }
   ],
   "source": [
    "# Here we are compair two poputation so we want use paired sample t test between post month usage \n",
    "# and pre month usage.\n",
    "# Ho = H1  (Null hypo. it means there is no significant improvement)\n",
    "# Ho # H1  (Alternate Hypot it means there are significant improvement in the card usage) \n",
    "\n",
    "# (a=pre_usage,b=Post 1 month usage)\n",
    "stats.ttest_rel(a=cust_seg.pre_usage,b=cust_seg.Post_usage_1month)"
   ]
  },
  {
   "cell_type": "code",
   "execution_count": 10,
   "metadata": {},
   "outputs": [
    {
     "data": {
      "text/plain": [
       "Ttest_relResult(statistic=-8.866832246938742, pvalue=4.295733828012836e-16)"
      ]
     },
     "execution_count": 10,
     "metadata": {},
     "output_type": "execute_result"
    }
   ],
   "source": [
    "#(a=pre_usage,b=Post 2 month usage)\n",
    "stats.ttest_rel(a=cust_seg.pre_usage,b=cust_seg.post_usage_2ndmonth)"
   ]
  },
  {
   "cell_type": "raw",
   "metadata": {},
   "source": [
    "calculated p value =0.386( it means confidence level > 95%) and actual p value =0.05 (confidence level=95%)\n",
    "So, we have more evidence to reject the null hypothesis\n",
    "=> Ho is rejected\n",
    "it means that,\n",
    "last campaign was successful in the term of credit card usage. "
   ]
  },
  {
   "cell_type": "code",
   "execution_count": 11,
   "metadata": {},
   "outputs": [
    {
     "data": {
      "text/plain": [
       "<matplotlib.axes._subplots.AxesSubplot at 0x1ceda9d9ec8>"
      ]
     },
     "execution_count": 11,
     "metadata": {},
     "output_type": "execute_result"
    },
    {
     "data": {
      "image/png": "[encoded data removed]",
      "text/plain": [
       "<Figure size 432x288 with 1 Axes>"
      ]
     },
     "metadata": {
      "needs_background": "light"
     },
     "output_type": "display_data"
    }
   ],
   "source": [
    "sns.distplot(cust_seg.post_usage_2ndmonth,kde_kws={\"color\": \"r\", \"label\": \"2 month\"})\n",
    "sns.distplot(cust_seg.Post_usage_1month,kde_kws={\"color\": \"b\", \"label\": \"1 month\"})"
   ]
  },
  {
   "cell_type": "markdown",
   "metadata": {},
   "source": [
    "### 3. Is there any difference between males & females in terms of credit card usage? (Hint: Comparing means of card usage for males & females)"
   ]
  },
  {
   "cell_type": "code",
   "execution_count": 12,
   "metadata": {},
   "outputs": [
    {
     "data": {
      "text/plain": [
       "Ttest_indResult(statistic=-3.6564080478875276, pvalue=0.00034088493594266187)"
      ]
     },
     "execution_count": 12,
     "metadata": {},
     "output_type": "execute_result"
    }
   ],
   "source": [
    "# Ho = H1 ( mean of males usage is equal to the mean of females usage)\n",
    "# ho # h1 ( mean of males usage is not equal to the mean of females usages)\n",
    "Males_spend=cust_seg.Post_usage_1month[cust_seg.sex==0]\n",
    "Females_spend=cust_seg.Post_usage_1month[cust_seg.sex==1]\n",
    "# here i am using t test (independent sample t test)\n",
    "stats.ttest_ind(a=Males_spend,b=Females_spend,equal_var=False) # Assumeing sample have unequal variance"
   ]
  },
  {
   "cell_type": "code",
   "execution_count": 13,
   "metadata": {},
   "outputs": [
    {
     "data": {
      "text/plain": [
       "Ttest_indResult(statistic=-3.7340738531536797, pvalue=0.00024625461203549315)"
      ]
     },
     "execution_count": 13,
     "metadata": {},
     "output_type": "execute_result"
    }
   ],
   "source": [
    "stats.ttest_ind(a=Males_spend,b=Females_spend,equal_var=True) #Assumeing sample have equal variance"
   ]
  },
  {
   "cell_type": "raw",
   "metadata": {},
   "source": [
    "From the above result,\n",
    "H calculated p value < 0.05 \n",
    "it means we hav more evidence to reject the null hypothesis\n",
    "=> Ho is rejected.\n",
    "\n",
    "I can say that male usage is independent to the females usage."
   ]
  },
  {
   "cell_type": "markdown",
   "metadata": {},
   "source": [
    "### 4. Is there any difference between segments of customers in terms of credit card usage? (Hint: Comparing means of card usage of different segment customers)"
   ]
  },
  {
   "cell_type": "code",
   "execution_count": 14,
   "metadata": {},
   "outputs": [
    {
     "data": {
      "text/plain": [
       "F_onewayResult(statistic=29.279283801321778, pvalue=7.36401083352674e-12)"
      ]
     },
     "execution_count": 14,
     "metadata": {},
     "output_type": "execute_result"
    }
   ],
   "source": [
    "# Ho =there is no any difference between segments of cust in term of card usage\n",
    "# H1= there is difference between segment of cust. in term of card usage\n",
    "\n",
    "s1=cust_seg.Latest_mon_usage[cust_seg.segment==1]\n",
    "s2=cust_seg.Latest_mon_usage[cust_seg.segment==2]\n",
    "s3=cust_seg.Latest_mon_usage[cust_seg.segment==3]\n",
    "\n",
    "#number of catagorical variable is greater then 2 therefore, i am using ANOVA test\n",
    "stats.f_oneway(s1,s2,s3)"
   ]
  },
  {
   "cell_type": "raw",
   "metadata": {},
   "source": [
    "From the above result , p value is less than 0.05.\n",
    "Therefore Ho is rejected beacause i have more evidence (confidence level  >95%) to reject the null hypothesis.\n",
    "It means that, There are Difference between segment of customer and credit card usages."
   ]
  },
  {
   "cell_type": "code",
   "execution_count": 15,
   "metadata": {},
   "outputs": [
    {
     "data": {
      "text/plain": [
       "Text(0.5, 1.0, 'Count of each segment')"
      ]
     },
     "execution_count": 15,
     "metadata": {},
     "output_type": "execute_result"
    },
    {
     "data": {
      "image/png": "[encoded data removed]",
      "text/plain": [
       "<Figure size 432x288 with 1 Axes>"
      ]
     },
     "metadata": {},
     "output_type": "display_data"
    }
   ],
   "source": [
    "cust_seg.groupby(\"segment\").Post_usage_1month.count().plot(kind=\"pie\",shadow=True, autopct='%1.1f%%');\n",
    "\n",
    "plt.title(\"Count of each segment\")"
   ]
  },
  {
   "cell_type": "markdown",
   "metadata": {},
   "source": [
    "### 5. Is there any relation between region & Segment? (Hint: Finding the relationship between categorical variables region and Segment)"
   ]
  },
  {
   "cell_type": "code",
   "execution_count": 16,
   "metadata": {},
   "outputs": [
    {
     "name": "stdout",
     "output_type": "stream",
     "text": [
      "region    1   2   3  All\n",
      "segment                 \n",
      "1        16  20   9   45\n",
      "2        19  44  42  105\n",
      "3        12  31   7   50\n",
      "All      47  95  58  200\n"
     ]
    },
    {
     "data": {
      "text/plain": [
       "(16.60444164948934,\n",
       " 0.055282939487992365,\n",
       " 9,\n",
       " array([[ 10.575,  21.375,  13.05 ,  45.   ],\n",
       "        [ 24.675,  49.875,  30.45 , 105.   ],\n",
       "        [ 11.75 ,  23.75 ,  14.5  ,  50.   ],\n",
       "        [ 47.   ,  95.   ,  58.   , 200.   ]]))"
      ]
     },
     "execution_count": 16,
     "metadata": {},
     "output_type": "execute_result"
    }
   ],
   "source": [
    "# Ho=there is  relation between region and segment\n",
    "# H1=there is no relation between region and segment\n",
    "\n",
    "# here we are checking for independence. therefore, i am using Chi Square test.\n",
    "\n",
    "M=pd.crosstab(cust_seg.segment,cust_seg.region,margins=True)\n",
    "print(M)\n",
    "stats.chi2_contingency(observed=M)"
   ]
  },
  {
   "cell_type": "raw",
   "metadata": {},
   "source": [
    "Here calculated p value is Higher than 0.0500 \n",
    "therefore Ho is accepted (Because i have less evidence to reject the Ho  )\n",
    "From the above result I can say that there is relation between segment and region."
   ]
  },
  {
   "cell_type": "markdown",
   "metadata": {},
   "source": [
    "### 6. Is the relationship between card usage in the latest month and pre usage of campaign? (Hint: find the correlation between latest_mon_usage and pre_usage)\n"
   ]
  },
  {
   "cell_type": "code",
   "execution_count": 36,
   "metadata": {},
   "outputs": [
    {
     "name": "stdout",
     "output_type": "stream",
     "text": [
      "[[1.         0.66228013]\n",
      " [0.66228013 1.        ]]\n"
     ]
    },
    {
     "data": {
      "text/plain": [
       "(2.0, 0.0)"
      ]
     },
     "execution_count": 36,
     "metadata": {},
     "output_type": "execute_result"
    },
    {
     "data": {
      "image/png": "[encoded data removed]",
      "text/plain": [
       "<Figure size 576x432 with 2 Axes>"
      ]
     },
     "metadata": {
      "needs_background": "light"
     },
     "output_type": "display_data"
    }
   ],
   "source": [
    "# Here we are finding the relation between two variable therefore, i will go for Correlation \n",
    "print(np.corrcoef(cust_seg.Latest_mon_usage, cust_seg.pre_usage))\n",
    "fig, ax = plt.subplots(figsize=(8,6))\n",
    "sns.heatmap(np.corrcoef(cust_seg.Latest_mon_usage,cust_seg.pre_usage),annot=True)\n",
    "bottom, top = ax.get_ylim()\n",
    "ax.set_ylim(bottom + 0.5, top - 0.5)"
   ]
  },
  {
   "cell_type": "raw",
   "metadata": {},
   "source": [
    "No, there is no relationship between card usage in the latest month and pre usage of campaign."
   ]
  }
 ],
 "metadata": {
  "kernelspec": {
   "display_name": "Python 3",
   "language": "python",
   "name": "python3"
  },
  "language_info": {
   "codemirror_mode": {
    "name": "ipython",
    "version": 3
   },
   "file_extension": ".py",
   "mimetype": "text/x-python",
   "name": "python",
   "nbconvert_exporter": "python",
   "pygments_lexer": "ipython3",
   "version": "3.7.4"
  }
 },
 "nbformat": 4,
 "nbformat_minor": 2
}
